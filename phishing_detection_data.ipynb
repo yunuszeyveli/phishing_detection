{
  "nbformat": 4,
  "nbformat_minor": 0,
  "metadata": {
    "colab": {
      "provenance": [],
      "authorship_tag": "ABX9TyONMm9zKOJoPb6HLGUdVa4L"
    },
    "kernelspec": {
      "name": "python3",
      "display_name": "Python 3"
    },
    "language_info": {
      "name": "python"
    }
  },
  "cells": [
    {
      "cell_type": "code",
      "execution_count": null,
      "metadata": {
        "colab": {
          "base_uri": "https://localhost:8080/"
        },
        "id": "RPan6yoS58x0",
        "outputId": "10f0da87-d707-4810-c212-23e8b408285d"
      },
      "outputs": [
        {
          "output_type": "stream",
          "name": "stdout",
          "text": [
            "Accuracy: 0.88\n",
            "Precision: 0.88\n",
            "Recall: 0.88\n"
          ]
        }
      ],
      "source": [
        "import pandas as pd\n",
        "import numpy as np\n",
        "from sklearn.model_selection import train_test_split\n",
        "from sklearn.ensemble import RandomForestClassifier\n",
        "from sklearn.metrics import accuracy_score, precision_score, recall_score\n",
        "\n",
        "df = pd.read_csv(\"/content/Website Phishing.csv\")\n",
        "\n",
        "if df.isnull().values.any():\n",
        "    df = df.dropna()\n",
        "\n",
        "if \"Result\" not in df.columns:\n",
        "    raise ValueError(\"Column 'Result' not found. Check column names: \" + str(df.columns.tolist()))\n",
        "\n",
        "df_binary = df[df[\"Result\"].isin([0, 1, -1])]\n",
        "X = df_binary.drop(columns=[\"Result\"])\n",
        "y = df_binary[\"Result\"]\n",
        "\n",
        "X_train, X_test, y_train, y_test = train_test_split(\n",
        "    X, y, test_size=0.2, random_state=42, stratify=y\n",
        ")\n",
        "\n",
        "rf_model = RandomForestClassifier(n_estimators=100, random_state=42)\n",
        "rf_model.fit(X_train, y_train)\n",
        "\n",
        "y_pred = rf_model.predict(X_test)\n",
        "\n",
        "accuracy = accuracy_score(y_test, y_pred)\n",
        "precision = precision_score(y_test, y_pred, average='weighted')\n",
        "recall = recall_score(y_test, y_pred, average='weighted')\n",
        "\n",
        "print(f\"Accuracy: {accuracy:.2f}\")\n",
        "print(f\"Precision: {precision:.2f}\")\n",
        "print(f\"Recall: {recall:.2f}\")"
      ]
    }
  ]
}